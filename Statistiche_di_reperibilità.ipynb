{
  "nbformat": 4,
  "nbformat_minor": 0,
  "metadata": {
    "colab": {
      "provenance": [],
      "authorship_tag": "ABX9TyN4S+y0jFPyOUuZUGudgWYQ"
    },
    "kernelspec": {
      "name": "python3",
      "display_name": "Python 3"
    },
    "language_info": {
      "name": "python"
    }
  },
  "cells": [
    {
      "cell_type": "markdown",
      "source": [
        "Requisiti"
      ],
      "metadata": {
        "id": "oQ2wQphJyFGv"
      }
    },
    {
      "cell_type": "code",
      "execution_count": null,
      "metadata": {
        "colab": {
          "base_uri": "https://localhost:8080/"
        },
        "id": "rbVoi2TSyCDM",
        "outputId": "a9ae22e5-918b-45b8-e6d5-b6e5f69bad5a"
      },
      "outputs": [
        {
          "output_type": "stream",
          "name": "stdout",
          "text": [
            "Requirement already satisfied: pandas in /usr/local/lib/python3.10/dist-packages (2.0.3)\n",
            "Requirement already satisfied: python-dateutil>=2.8.2 in /usr/local/lib/python3.10/dist-packages (from pandas) (2.8.2)\n",
            "Requirement already satisfied: pytz>=2020.1 in /usr/local/lib/python3.10/dist-packages (from pandas) (2023.4)\n",
            "Requirement already satisfied: tzdata>=2022.1 in /usr/local/lib/python3.10/dist-packages (from pandas) (2024.1)\n",
            "Requirement already satisfied: numpy>=1.21.0 in /usr/local/lib/python3.10/dist-packages (from pandas) (1.25.2)\n",
            "Requirement already satisfied: six>=1.5 in /usr/local/lib/python3.10/dist-packages (from python-dateutil>=2.8.2->pandas) (1.16.0)\n",
            "Requirement already satisfied: openpyxl in /usr/local/lib/python3.10/dist-packages (3.1.5)\n",
            "Requirement already satisfied: xlrd in /usr/local/lib/python3.10/dist-packages (2.0.1)\n",
            "Requirement already satisfied: et-xmlfile in /usr/local/lib/python3.10/dist-packages (from openpyxl) (1.1.0)\n"
          ]
        }
      ],
      "source": [
        "!pip install pandas\n",
        "!pip install openpyxl xlrd"
      ]
    },
    {
      "cell_type": "markdown",
      "source": [
        "**Import dei dataset**"
      ],
      "metadata": {
        "id": "SIWroAHE2GfR"
      }
    },
    {
      "cell_type": "code",
      "source": [
        "import pandas as pd\n",
        "\n",
        "# Specifica il percorso del file Excel\n",
        "dataset_path = '/content/DatasetFinale.xlsx'\n",
        "AmericanActionNews_path= '/content/American Action News RAW.xlsx'\n",
        "ViralFakeNews_path= '/content/Viral Fake News RAW.xlsx'\n",
        "RussianTrolls_path= '/content/Russian Trolls RAW.xlsx'\n",
        "Facebook_path= '/content/facebook-fact-check RAW.csv'\n",
        "\n",
        "# Leggi il file Excel in un DataFrame\n",
        "df = pd.read_excel(dataset_path)\n",
        "AAN_df= pd.read_excel(AmericanActionNews_path)\n",
        "ViralFakeNews_df = pd.read_excel(ViralFakeNews_path)\n",
        "Russian_df = pd.read_excel(RussianTrolls_path)\n",
        "Facebook_df = pd.read_csv(Facebook_path)\n",
        "\n",
        "# Stampa le prime righe del DataFrame\n",
        "#print(df.head(3)\n",
        "# Visualizza le prime righe del DataFrame per verificare che sia stato letto correttamente\n",
        "#print(df.head(3))\n",
        "#print(AAN_df.head(3))\n",
        "\n",
        "print(Facebook_df.head(2))\n",
        "\n",
        "# Stampa i nomi delle colonne\n",
        "#print(df.columns)"
      ],
      "metadata": {
        "id": "6u18mrUDzXvZ",
        "colab": {
          "base_uri": "https://localhost:8080/"
        },
        "outputId": "a366528b-fccb-40ca-fe99-fa843229cdd7"
      },
      "execution_count": 12,
      "outputs": [
        {
          "output_type": "stream",
          "name": "stdout",
          "text": [
            "        account_id           post_id    Category               Page  \\\n",
            "0  184096565021911  1035057923259100  mainstream  ABC News Politics   \n",
            "1  184096565021911  1035269309904628  mainstream  ABC News Politics   \n",
            "\n",
            "                                            Post URL Date Published Post Type  \\\n",
            "0  https://www.facebook.com/ABCNewsPolitics/posts...     2016-09-19     video   \n",
            "1  https://www.facebook.com/ABCNewsPolitics/posts...     2016-09-19      link   \n",
            "\n",
            "               Rating Debate  share_count  reaction_count  comment_count  \n",
            "0  no factual content    NaN          NaN           146.0           15.0  \n",
            "1         mostly true    NaN          1.0            33.0           34.0  \n"
          ]
        }
      ]
    },
    {
      "cell_type": "markdown",
      "source": [
        "**Percentuale di raggiungibilità per American Action News**"
      ],
      "metadata": {
        "id": "XpIFappJ3Kpy"
      }
    },
    {
      "cell_type": "code",
      "source": [
        "numero_righe_AAN = AAN_df.shape[0] +1\n",
        "#Il +1 è perché c'è un articolo in più non presente nel dataset di partenza\n",
        "\n",
        "print(f\"Il numero totale di righe di American Action News è: {numero_righe_AAN}\")\n",
        "\n",
        "# Filtra il DataFrame per le righe dove la colonna \"Campagna\" è uguale a \"American Action News\"\n",
        "filtrato = df.loc[df['CAMPAGNA'] == 'American Action News']\n",
        "\n",
        "# Ottieni il numero di righe del DataFrame filtrato\n",
        "numero_righe_filtrate = filtrato.shape[0]\n",
        "\n",
        "print(f\"Il numero di righe presenti nel dataset per la Campagna AAN è: {numero_righe_filtrate}\")\n",
        "\n",
        "# Calcola la percentuale delle righe filtrate rispetto al totale delle righe\n",
        "percentuale_ragg_AAN = (numero_righe_filtrate / numero_righe_AAN) * 100\n",
        "\n",
        "print(f\"La percentuale di notizie raggiunte per American Action News è: {percentuale_ragg_AAN}\")"
      ],
      "metadata": {
        "colab": {
          "base_uri": "https://localhost:8080/"
        },
        "id": "mCpqqmlDzw3J",
        "outputId": "3166d6af-0bf0-4a4b-e227-2efd63c92538"
      },
      "execution_count": 2,
      "outputs": [
        {
          "output_type": "stream",
          "name": "stdout",
          "text": [
            "Il numero totale di righe di American Action News è: 173\n",
            "Il numero di righe presenti nel dataset per la Campagna AAN è: 104\n",
            "La percentuale di notizie raggiunte per American Action News è: 60.115606936416185\n"
          ]
        }
      ]
    },
    {
      "cell_type": "markdown",
      "source": [
        "**Percentuale di raggiungibilità per Viral Fake Election News**"
      ],
      "metadata": {
        "id": "ip3dX-pw592S"
      }
    },
    {
      "cell_type": "code",
      "source": [
        "numero_righe_Viral = ViralFakeNews_df.shape[0]\n",
        "\n",
        "print(f\"Il numero totale di righe di Viral Fake News è: {numero_righe_Viral}\")\n",
        "\n",
        "# Filtra il DataFrame per le righe dove la colonna \"Campagna\" è uguale a \"Viral Fake Election News\"\n",
        "filtrato = df.loc[df['CAMPAGNA'] == 'Viral Fake Election News ']\n",
        "\n",
        "# Ottieni il numero di righe del DataFrame filtrato\n",
        "numero_righe_filtrate = filtrato.shape[0]\n",
        "\n",
        "print(f\"Il numero di righe presenti nel dataset per la Campagna ViralFakeNews è: {numero_righe_filtrate}\")\n",
        "\n",
        "# Calcola la percentuale delle righe filtrate rispetto al totale delle righe\n",
        "percentuale_ragg_ViralFake = (numero_righe_filtrate / numero_righe_Viral) * 100\n",
        "\n",
        "print(f\"La percentuale di notizie raggiunte per Viral Fake News News è: {percentuale_ragg_ViralFake}\")"
      ],
      "metadata": {
        "colab": {
          "base_uri": "https://localhost:8080/"
        },
        "id": "8rwDVFvo39RJ",
        "outputId": "40ee1303-0db0-4f6f-ec61-1a2031dff561"
      },
      "execution_count": 4,
      "outputs": [
        {
          "output_type": "stream",
          "name": "stdout",
          "text": [
            "Il numero totale di righe di Viral Fake News è: 60\n",
            "Il numero di righe presenti nel dataset per la Campagna ViralFakeNews è: 57\n",
            "La percentuale di notizie raggiunte per Viral Fake News News è: 95.0\n"
          ]
        }
      ]
    },
    {
      "cell_type": "markdown",
      "source": [
        "**Percentuale di raggiungibilità per Hyperpartisan in 2016 American politic Elections**"
      ],
      "metadata": {
        "id": "OZm-eQJ06DYK"
      }
    },
    {
      "cell_type": "code",
      "source": [
        "# Filtra le righe che hanno \"Rating\" uguale a \"mostly false\" o \"mixture of true and false\"\n",
        "filtered_df = Facebook_df[Facebook_df['Rating'].isin(['mostly false', 'mixture of true and false'])]\n",
        "\n",
        "# Conta il numero di righe che soddisfano il filtro\n",
        "numero_righe_Facebook = filtered_df.shape[0]\n",
        "\n",
        "print(f\"Il numero totale di righe di Facebook è: {numero_righe_Facebook}\")\n",
        "\n",
        "# Filtra il DataFrame per le righe dove la colonna \"Campagna\" è uguale a\n",
        "filtrato = df.loc[df['CAMPAGNA'] == 'Hyperpartisan in 2016 American Politic Elections']\n",
        "\n",
        "# Ottieni il numero di righe del DataFrame filtrato\n",
        "numero_righe_filtrate = filtrato.shape[0]\n",
        "\n",
        "print(f\"Il numero di righe presenti nel dataset per la Hyperpartisan in 2016 American Politic Elections è: {numero_righe_filtrate}\")\n",
        "\n",
        "# Calcola la percentuale delle righe filtrate rispetto al totale delle righe\n",
        "percentuale_ragg_Facebook = (numero_righe_filtrate / numero_righe_Facebook) * 100\n",
        "\n",
        "print(f\"La percentuale di notizie raggiunte per Viral Fake News News è: {percentuale_ragg_Facebook}\")"
      ],
      "metadata": {
        "colab": {
          "base_uri": "https://localhost:8080/"
        },
        "id": "WBhPrjaTdEqU",
        "outputId": "b94f4904-96d0-443c-fb68-0de66303b92f"
      },
      "execution_count": 13,
      "outputs": [
        {
          "output_type": "stream",
          "name": "stdout",
          "text": [
            "Il numero totale di righe di Facebook è: 349\n",
            "Il numero di righe presenti nel dataset per la Hyperpartisan in 2016 American Politic Elections è: 91\n",
            "La percentuale di notizie raggiunte per Viral Fake News News è: 26.07449856733524\n"
          ]
        }
      ]
    },
    {
      "cell_type": "markdown",
      "source": [
        "**Percentuale di raggiungibilità per Russian Troll account**"
      ],
      "metadata": {
        "id": "vb39hv9W6LCJ"
      }
    },
    {
      "cell_type": "code",
      "source": [
        "numero_righe_Russian = Russian_df.shape[0]\n",
        "\n",
        "print(f\"Il numero totale di righe di Russian Trolls è: {numero_righe_Russian}\")\n",
        "\n",
        "# Filtra il DataFrame per le righe dove la colonna \"Campagna\" è uguale a \"Viral Fake Election News\"\n",
        "filtrato = df.loc[df['CAMPAGNA'] == 'Russian troll accounts during 2016 U.S. presidential election']\n",
        "\n",
        "# Ottieni il numero di righe del DataFrame filtrato\n",
        "numero_righe_filtrate = filtrato.shape[0]\n",
        "\n",
        "print(f\"Il numero di righe presenti nel dataset per la Campagna Russian Troll Accounts 2016 è: {numero_righe_filtrate}\")\n",
        "\n",
        "# Calcola la percentuale delle righe filtrate rispetto al totale delle righe\n",
        "percentuale_ragg_Russian = (numero_righe_filtrate / numero_righe_Russian) * 100\n",
        "\n",
        "print(f\"La percentuale di notizie raggiunte per Viral Fake News News è: {percentuale_ragg_Russian}\")"
      ],
      "metadata": {
        "colab": {
          "base_uri": "https://localhost:8080/"
        },
        "id": "tuEU06Cd6zJR",
        "outputId": "a8f5b203-21fa-4a70-db6f-71f3fc042c42"
      },
      "execution_count": 7,
      "outputs": [
        {
          "output_type": "stream",
          "name": "stdout",
          "text": [
            "Il numero totale di righe di Russian Trolls è: 11451\n",
            "Il numero di righe presenti nel dataset per la Campagna Russian Troll Accounts 2016 è: 11451\n",
            "La percentuale di notizie raggiunte per Viral Fake News News è: 100.0\n"
          ]
        }
      ]
    },
    {
      "cell_type": "markdown",
      "source": [
        "# Nuova sezione"
      ],
      "metadata": {
        "id": "14NydSy-cbJM"
      }
    },
    {
      "cell_type": "code",
      "source": [
        "import pandas as pd\n",
        "import matplotlib.pyplot as plt\n",
        "\n",
        "# Supponiamo di avere queste variabili percentuali\n",
        "dati = {\n",
        "    'Variabile': ['AA_N', 'VFE_N', 'Hyperpartisan 2016', 'Local Report ', 'Metric Media', 'Fake Dementia Solution', 'Russian troll'],\n",
        "    'Percentuale': [percentuale_ragg_AAN, percentuale_ragg_ViralFake, percentuale_ragg_Facebook, None, None, None, percentuale_ragg_Russian]\n",
        "}\n",
        "\n",
        "# Creiamo un DataFrame\n",
        "df_Plot = pd.DataFrame(dati)\n",
        "\n",
        "# Gestiamo i valori N/A\n",
        "df_Plot['Percentuale'] = df_Plot['Percentuale'].fillna(0)  # Sostituiamo N/A con 0 per plottare\n",
        "n_a_indices = df_Plot[df_Plot['Percentuale'] == 0].index  # Indici dei valori N/A\n",
        "\n",
        "# Creiamo un grafico a barre\n",
        "plt.figure(figsize=(10, 6))\n",
        "bars = plt.bar(df_Plot['Variabile'], df_Plot['Percentuale'], color='skyblue')\n",
        "\n",
        "# Colore diverso per i valori N/A\n",
        "for i in n_a_indices:\n",
        "    bars[i].set_color('red')\n",
        "\n",
        "# Aggiungiamo titoli e etichette\n",
        "plt.title('Percentuale di Raggiungibilità delle Campagne')\n",
        "plt.xlabel('Variabili')\n",
        "plt.ylabel('Percentuale')\n",
        "\n",
        "# Aggiungiamo le percentuali sopra le barre\n",
        "for index, value in enumerate(df_Plot['Percentuale']):\n",
        "    label = 'N/A' if index in n_a_indices else f'{value:.2f}%'  # Formattiamo il valore a due cifre decimali\n",
        "    plt.text(index, value + 1, label, ha='center')\n",
        "\n",
        "\n",
        "# Ruotiamo le etichette delle x\n",
        "plt.xticks(rotation=45, ha='right')\n",
        "\n",
        "# Mostriamo il grafico\n",
        "plt.show()\n"
      ],
      "metadata": {
        "colab": {
          "base_uri": "https://localhost:8080/",
          "height": 677
        },
        "id": "JzQskcdF8hcj",
        "outputId": "c18e9161-dd99-470f-d794-d991260e0924"
      },
      "execution_count": 14,
      "outputs": [
        {
          "output_type": "display_data",
          "data": {
            "text/plain": [
              "<Figure size 1000x600 with 1 Axes>"
            ],
            "image/png": "[encoded data removed]"
          },
          "metadata": {}
        }
      ]
    }
  ]
}